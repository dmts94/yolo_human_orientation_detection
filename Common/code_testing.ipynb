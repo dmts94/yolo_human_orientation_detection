{
 "cells": [
  {
   "cell_type": "code",
   "execution_count": 24,
   "metadata": {},
   "outputs": [
    {
     "name": "stdout",
     "output_type": "stream",
     "text": [
      "Downloading split 'train' to 'C:\\Users\\melti\\fiftyone\\coco-2017\\train' if necessary\n",
      "Downloading annotations to 'C:\\Users\\melti\\fiftyone\\coco-2017\\tmp-download\\annotations_trainval2017.zip'\n",
      " 100% |██████|    1.9Gb/1.9Gb [9.3s elapsed, 0s remaining, 214.1Mb/s]       \n",
      "Extracting annotations to 'C:\\Users\\melti\\fiftyone\\coco-2017\\raw\\instances_train2017.json'\n",
      "Downloading 1000 images\n",
      " 100% |████████████████| 1000/1000 [25.6s elapsed, 0s remaining, 36.3 images/s]      \n",
      "Writing annotations for 1000 downloaded samples to 'C:\\Users\\melti\\fiftyone\\coco-2017\\train\\labels.json'\n",
      "Downloading split 'validation' to 'C:\\Users\\melti\\fiftyone\\coco-2017\\validation' if necessary\n",
      "Found annotations at 'C:\\Users\\melti\\fiftyone\\coco-2017\\raw\\instances_val2017.json'\n",
      "Downloading 1000 images\n",
      " 100% |████████████████| 1000/1000 [26.8s elapsed, 0s remaining, 41.8 images/s]      \n",
      "Writing annotations for 1000 downloaded samples to 'C:\\Users\\melti\\fiftyone\\coco-2017\\validation\\labels.json'\n",
      "Downloading split 'test' to 'C:\\Users\\melti\\fiftyone\\coco-2017\\test' if necessary\n",
      "Test split is unlabeled; ignoring classes requirement\n",
      "Downloading test info to 'C:\\Users\\melti\\fiftyone\\coco-2017\\tmp-download\\image_info_test2017.zip'\n",
      " 100% |██████|    8.7Mb/8.7Mb [243.8ms elapsed, 0s remaining, 35.8Mb/s]      \n",
      "Extracting test info to 'C:\\Users\\melti\\fiftyone\\coco-2017\\raw\\image_info_test2017.json'\n",
      "Downloading 1000 images\n",
      " 100% |████████████████| 1000/1000 [27.3s elapsed, 0s remaining, 27.4 images/s]      \n",
      "Writing annotations for 1000 downloaded samples to 'C:\\Users\\melti\\fiftyone\\coco-2017\\test\\labels.json'\n",
      "Dataset info written to 'C:\\Users\\melti\\fiftyone\\coco-2017\\info.json'\n",
      "Loading 'coco-2017' split 'train'\n",
      "   0% ||--------------|    0/1000 [3.5ms elapsed, ? remaining, ? samples/s] \n"
     ]
    },
    {
     "ename": "ImportError",
     "evalue": "The requested operation requires that 'pycocotools' is installed on your machine.\n\nIf you think this error is inaccurate, you can set `fiftyone.config.requirement_error_level` to 1 (warning) or 2 (ignore).\nSee https://voxel51.com/docs/fiftyone/user_guide/config.html for details.",
     "output_type": "error",
     "traceback": [
      "\u001b[1;31m---------------------------------------------------------------------------\u001b[0m",
      "\u001b[1;31mModuleNotFoundError\u001b[0m                       Traceback (most recent call last)",
      "File \u001b[1;32m~\\anaconda3\\envs\\Tensorflow-cpu\\lib\\site-packages\\eta\\core\\utils.py:788\u001b[0m, in \u001b[0;36m_get_module_version\u001b[1;34m(requirement_str, error_level)\u001b[0m\n\u001b[0;32m    <a href='file:///c%3A/Users/melti/anaconda3/envs/Tensorflow-cpu/lib/site-packages/eta/core/utils.py?line=786'>787</a>\u001b[0m \u001b[39mtry\u001b[39;00m:\n\u001b[1;32m--> <a href='file:///c%3A/Users/melti/anaconda3/envs/Tensorflow-cpu/lib/site-packages/eta/core/utils.py?line=787'>788</a>\u001b[0m     mod \u001b[39m=\u001b[39m importlib\u001b[39m.\u001b[39;49mimport_module(req\u001b[39m.\u001b[39;49mname)\n\u001b[0;32m    <a href='file:///c%3A/Users/melti/anaconda3/envs/Tensorflow-cpu/lib/site-packages/eta/core/utils.py?line=788'>789</a>\u001b[0m     version \u001b[39m=\u001b[39m \u001b[39mgetattr\u001b[39m(mod, \u001b[39m\"\u001b[39m\u001b[39m__version__\u001b[39m\u001b[39m\"\u001b[39m, \u001b[39mNone\u001b[39;00m)\n",
      "File \u001b[1;32m~\\anaconda3\\envs\\Tensorflow-cpu\\lib\\importlib\\__init__.py:127\u001b[0m, in \u001b[0;36mimport_module\u001b[1;34m(name, package)\u001b[0m\n\u001b[0;32m    <a href='file:///c%3A/Users/melti/anaconda3/envs/Tensorflow-cpu/lib/importlib/__init__.py?line=125'>126</a>\u001b[0m         level \u001b[39m+\u001b[39m\u001b[39m=\u001b[39m \u001b[39m1\u001b[39m\n\u001b[1;32m--> <a href='file:///c%3A/Users/melti/anaconda3/envs/Tensorflow-cpu/lib/importlib/__init__.py?line=126'>127</a>\u001b[0m \u001b[39mreturn\u001b[39;00m _bootstrap\u001b[39m.\u001b[39;49m_gcd_import(name[level:], package, level)\n",
      "File \u001b[1;32m<frozen importlib._bootstrap>:1014\u001b[0m, in \u001b[0;36m_gcd_import\u001b[1;34m(name, package, level)\u001b[0m\n",
      "File \u001b[1;32m<frozen importlib._bootstrap>:991\u001b[0m, in \u001b[0;36m_find_and_load\u001b[1;34m(name, import_)\u001b[0m\n",
      "File \u001b[1;32m<frozen importlib._bootstrap>:973\u001b[0m, in \u001b[0;36m_find_and_load_unlocked\u001b[1;34m(name, import_)\u001b[0m\n",
      "\u001b[1;31mModuleNotFoundError\u001b[0m: No module named 'pycocotools'",
      "\nThe above exception was the direct cause of the following exception:\n",
      "\u001b[1;31mImportError\u001b[0m                               Traceback (most recent call last)",
      "\u001b[1;32mc:\\Users\\melti\\Documents\\GitHub\\yolo_human_orientation_detection\\Common\\code_testing.ipynb Cell 1'\u001b[0m in \u001b[0;36m<cell line: 4>\u001b[1;34m()\u001b[0m\n\u001b[0;32m      <a href='vscode-notebook-cell:/c%3A/Users/melti/Documents/GitHub/yolo_human_orientation_detection/Common/code_testing.ipynb#ch0000000?line=0'>1</a>\u001b[0m \u001b[39mimport\u001b[39;00m \u001b[39mfiftyone\u001b[39;00m \u001b[39mas\u001b[39;00m \u001b[39mfo\u001b[39;00m\n\u001b[0;32m      <a href='vscode-notebook-cell:/c%3A/Users/melti/Documents/GitHub/yolo_human_orientation_detection/Common/code_testing.ipynb#ch0000000?line=1'>2</a>\u001b[0m \u001b[39mimport\u001b[39;00m \u001b[39mfiftyone\u001b[39;00m\u001b[39m.\u001b[39;00m\u001b[39mzoo\u001b[39;00m \u001b[39mas\u001b[39;00m \u001b[39mfoz\u001b[39;00m \n\u001b[1;32m----> <a href='vscode-notebook-cell:/c%3A/Users/melti/Documents/GitHub/yolo_human_orientation_detection/Common/code_testing.ipynb#ch0000000?line=3'>4</a>\u001b[0m dataset \u001b[39m=\u001b[39m foz\u001b[39m.\u001b[39;49mload_zoo_dataset(\u001b[39m\"\u001b[39;49m\u001b[39mcoco-2017\u001b[39;49m\u001b[39m\"\u001b[39;49m, \n\u001b[0;32m      <a href='vscode-notebook-cell:/c%3A/Users/melti/Documents/GitHub/yolo_human_orientation_detection/Common/code_testing.ipynb#ch0000000?line=4'>5</a>\u001b[0m                                 label_types \u001b[39m=\u001b[39;49m [\u001b[39m'\u001b[39;49m\u001b[39mdetections\u001b[39;49m\u001b[39m'\u001b[39;49m,\u001b[39m'\u001b[39;49m\u001b[39msegmentations\u001b[39;49m\u001b[39m'\u001b[39;49m],\n\u001b[0;32m      <a href='vscode-notebook-cell:/c%3A/Users/melti/Documents/GitHub/yolo_human_orientation_detection/Common/code_testing.ipynb#ch0000000?line=5'>6</a>\u001b[0m                                 classes \u001b[39m=\u001b[39;49m [\u001b[39m'\u001b[39;49m\u001b[39mperson\u001b[39;49m\u001b[39m'\u001b[39;49m],\n\u001b[0;32m      <a href='vscode-notebook-cell:/c%3A/Users/melti/Documents/GitHub/yolo_human_orientation_detection/Common/code_testing.ipynb#ch0000000?line=6'>7</a>\u001b[0m                                 max_samples \u001b[39m=\u001b[39;49m \u001b[39m1000\u001b[39;49m)\n",
      "File \u001b[1;32m~\\anaconda3\\envs\\Tensorflow-cpu\\lib\\site-packages\\fiftyone\\zoo\\datasets\\__init__.py:282\u001b[0m, in \u001b[0;36mload_zoo_dataset\u001b[1;34m(name, split, splits, label_field, dataset_name, dataset_dir, download_if_necessary, drop_existing_dataset, overwrite, cleanup, **kwargs)\u001b[0m\n\u001b[0;32m    <a href='file:///c%3A/Users/melti/anaconda3/envs/Tensorflow-cpu/lib/site-packages/fiftyone/zoo/datasets/__init__.py?line=277'>278</a>\u001b[0m         split_dir \u001b[39m=\u001b[39m zoo_dataset\u001b[39m.\u001b[39mget_split_dir(dataset_dir, split)\n\u001b[0;32m    <a href='file:///c%3A/Users/melti/anaconda3/envs/Tensorflow-cpu/lib/site-packages/fiftyone/zoo/datasets/__init__.py?line=278'>279</a>\u001b[0m         dataset_importer, _ \u001b[39m=\u001b[39m foud\u001b[39m.\u001b[39mbuild_dataset_importer(\n\u001b[0;32m    <a href='file:///c%3A/Users/melti/anaconda3/envs/Tensorflow-cpu/lib/site-packages/fiftyone/zoo/datasets/__init__.py?line=279'>280</a>\u001b[0m             dataset_type, dataset_dir\u001b[39m=\u001b[39msplit_dir, \u001b[39m*\u001b[39m\u001b[39m*\u001b[39mimporter_kwargs\n\u001b[0;32m    <a href='file:///c%3A/Users/melti/anaconda3/envs/Tensorflow-cpu/lib/site-packages/fiftyone/zoo/datasets/__init__.py?line=280'>281</a>\u001b[0m         )\n\u001b[1;32m--> <a href='file:///c%3A/Users/melti/anaconda3/envs/Tensorflow-cpu/lib/site-packages/fiftyone/zoo/datasets/__init__.py?line=281'>282</a>\u001b[0m         dataset\u001b[39m.\u001b[39;49madd_importer(\n\u001b[0;32m    <a href='file:///c%3A/Users/melti/anaconda3/envs/Tensorflow-cpu/lib/site-packages/fiftyone/zoo/datasets/__init__.py?line=282'>283</a>\u001b[0m             dataset_importer, label_field\u001b[39m=\u001b[39;49mlabel_field, tags\u001b[39m=\u001b[39;49m[split]\n\u001b[0;32m    <a href='file:///c%3A/Users/melti/anaconda3/envs/Tensorflow-cpu/lib/site-packages/fiftyone/zoo/datasets/__init__.py?line=283'>284</a>\u001b[0m         )\n\u001b[0;32m    <a href='file:///c%3A/Users/melti/anaconda3/envs/Tensorflow-cpu/lib/site-packages/fiftyone/zoo/datasets/__init__.py?line=284'>285</a>\u001b[0m \u001b[39melse\u001b[39;00m:\n\u001b[0;32m    <a href='file:///c%3A/Users/melti/anaconda3/envs/Tensorflow-cpu/lib/site-packages/fiftyone/zoo/datasets/__init__.py?line=285'>286</a>\u001b[0m     logger\u001b[39m.\u001b[39minfo(\u001b[39m\"\u001b[39m\u001b[39mLoading \u001b[39m\u001b[39m'\u001b[39m\u001b[39m%s\u001b[39;00m\u001b[39m'\u001b[39m\u001b[39m\"\u001b[39m, zoo_dataset\u001b[39m.\u001b[39mname)\n",
      "File \u001b[1;32m~\\anaconda3\\envs\\Tensorflow-cpu\\lib\\site-packages\\fiftyone\\core\\dataset.py:2997\u001b[0m, in \u001b[0;36mDataset.add_importer\u001b[1;34m(self, dataset_importer, label_field, tags, expand_schema, add_info)\u001b[0m\n\u001b[0;32m   <a href='file:///c%3A/Users/melti/anaconda3/envs/Tensorflow-cpu/lib/site-packages/fiftyone/core/dataset.py?line=2955'>2956</a>\u001b[0m \u001b[39mdef\u001b[39;00m \u001b[39madd_importer\u001b[39m(\n\u001b[0;32m   <a href='file:///c%3A/Users/melti/anaconda3/envs/Tensorflow-cpu/lib/site-packages/fiftyone/core/dataset.py?line=2956'>2957</a>\u001b[0m     \u001b[39mself\u001b[39m,\n\u001b[0;32m   <a href='file:///c%3A/Users/melti/anaconda3/envs/Tensorflow-cpu/lib/site-packages/fiftyone/core/dataset.py?line=2957'>2958</a>\u001b[0m     dataset_importer,\n\u001b[1;32m   (...)\u001b[0m\n\u001b[0;32m   <a href='file:///c%3A/Users/melti/anaconda3/envs/Tensorflow-cpu/lib/site-packages/fiftyone/core/dataset.py?line=2961'>2962</a>\u001b[0m     add_info\u001b[39m=\u001b[39m\u001b[39mTrue\u001b[39;00m,\n\u001b[0;32m   <a href='file:///c%3A/Users/melti/anaconda3/envs/Tensorflow-cpu/lib/site-packages/fiftyone/core/dataset.py?line=2962'>2963</a>\u001b[0m ):\n\u001b[0;32m   <a href='file:///c%3A/Users/melti/anaconda3/envs/Tensorflow-cpu/lib/site-packages/fiftyone/core/dataset.py?line=2963'>2964</a>\u001b[0m     \u001b[39m\"\"\"Adds the samples from the given\u001b[39;00m\n\u001b[0;32m   <a href='file:///c%3A/Users/melti/anaconda3/envs/Tensorflow-cpu/lib/site-packages/fiftyone/core/dataset.py?line=2964'>2965</a>\u001b[0m \u001b[39m    :class:`fiftyone.utils.data.importers.DatasetImporter` to the dataset.\u001b[39;00m\n\u001b[0;32m   <a href='file:///c%3A/Users/melti/anaconda3/envs/Tensorflow-cpu/lib/site-packages/fiftyone/core/dataset.py?line=2965'>2966</a>\u001b[0m \n\u001b[1;32m   (...)\u001b[0m\n\u001b[0;32m   <a href='file:///c%3A/Users/melti/anaconda3/envs/Tensorflow-cpu/lib/site-packages/fiftyone/core/dataset.py?line=2994'>2995</a>\u001b[0m \u001b[39m        a list of IDs of the samples that were added to the dataset\u001b[39;00m\n\u001b[0;32m   <a href='file:///c%3A/Users/melti/anaconda3/envs/Tensorflow-cpu/lib/site-packages/fiftyone/core/dataset.py?line=2995'>2996</a>\u001b[0m \u001b[39m    \"\"\"\u001b[39;00m\n\u001b[1;32m-> <a href='file:///c%3A/Users/melti/anaconda3/envs/Tensorflow-cpu/lib/site-packages/fiftyone/core/dataset.py?line=2996'>2997</a>\u001b[0m     \u001b[39mreturn\u001b[39;00m foud\u001b[39m.\u001b[39;49mimport_samples(\n\u001b[0;32m   <a href='file:///c%3A/Users/melti/anaconda3/envs/Tensorflow-cpu/lib/site-packages/fiftyone/core/dataset.py?line=2997'>2998</a>\u001b[0m         \u001b[39mself\u001b[39;49m,\n\u001b[0;32m   <a href='file:///c%3A/Users/melti/anaconda3/envs/Tensorflow-cpu/lib/site-packages/fiftyone/core/dataset.py?line=2998'>2999</a>\u001b[0m         dataset_importer,\n\u001b[0;32m   <a href='file:///c%3A/Users/melti/anaconda3/envs/Tensorflow-cpu/lib/site-packages/fiftyone/core/dataset.py?line=2999'>3000</a>\u001b[0m         label_field\u001b[39m=\u001b[39;49mlabel_field,\n\u001b[0;32m   <a href='file:///c%3A/Users/melti/anaconda3/envs/Tensorflow-cpu/lib/site-packages/fiftyone/core/dataset.py?line=3000'>3001</a>\u001b[0m         tags\u001b[39m=\u001b[39;49mtags,\n\u001b[0;32m   <a href='file:///c%3A/Users/melti/anaconda3/envs/Tensorflow-cpu/lib/site-packages/fiftyone/core/dataset.py?line=3001'>3002</a>\u001b[0m         expand_schema\u001b[39m=\u001b[39;49mexpand_schema,\n\u001b[0;32m   <a href='file:///c%3A/Users/melti/anaconda3/envs/Tensorflow-cpu/lib/site-packages/fiftyone/core/dataset.py?line=3002'>3003</a>\u001b[0m         add_info\u001b[39m=\u001b[39;49madd_info,\n\u001b[0;32m   <a href='file:///c%3A/Users/melti/anaconda3/envs/Tensorflow-cpu/lib/site-packages/fiftyone/core/dataset.py?line=3003'>3004</a>\u001b[0m     )\n",
      "File \u001b[1;32m~\\anaconda3\\envs\\Tensorflow-cpu\\lib\\site-packages\\fiftyone\\utils\\data\\importers.py:129\u001b[0m, in \u001b[0;36mimport_samples\u001b[1;34m(dataset, dataset_importer, label_field, tags, expand_schema, add_info)\u001b[0m\n\u001b[0;32m    <a href='file:///c%3A/Users/melti/anaconda3/envs/Tensorflow-cpu/lib/site-packages/fiftyone/utils/data/importers.py?line=125'>126</a>\u001b[0m     num_samples \u001b[39m=\u001b[39m \u001b[39mNone\u001b[39;00m\n\u001b[0;32m    <a href='file:///c%3A/Users/melti/anaconda3/envs/Tensorflow-cpu/lib/site-packages/fiftyone/utils/data/importers.py?line=127'>128</a>\u001b[0m samples \u001b[39m=\u001b[39m \u001b[39mmap\u001b[39m(parse_sample, \u001b[39miter\u001b[39m(dataset_importer))\n\u001b[1;32m--> <a href='file:///c%3A/Users/melti/anaconda3/envs/Tensorflow-cpu/lib/site-packages/fiftyone/utils/data/importers.py?line=128'>129</a>\u001b[0m sample_ids \u001b[39m=\u001b[39m dataset\u001b[39m.\u001b[39;49madd_samples(\n\u001b[0;32m    <a href='file:///c%3A/Users/melti/anaconda3/envs/Tensorflow-cpu/lib/site-packages/fiftyone/utils/data/importers.py?line=129'>130</a>\u001b[0m     samples, expand_schema\u001b[39m=\u001b[39;49mexpand_schema, num_samples\u001b[39m=\u001b[39;49mnum_samples\n\u001b[0;32m    <a href='file:///c%3A/Users/melti/anaconda3/envs/Tensorflow-cpu/lib/site-packages/fiftyone/utils/data/importers.py?line=130'>131</a>\u001b[0m )\n\u001b[0;32m    <a href='file:///c%3A/Users/melti/anaconda3/envs/Tensorflow-cpu/lib/site-packages/fiftyone/utils/data/importers.py?line=132'>133</a>\u001b[0m \u001b[39mif\u001b[39;00m add_info \u001b[39mand\u001b[39;00m dataset_importer\u001b[39m.\u001b[39mhas_dataset_info:\n\u001b[0;32m    <a href='file:///c%3A/Users/melti/anaconda3/envs/Tensorflow-cpu/lib/site-packages/fiftyone/utils/data/importers.py?line=133'>134</a>\u001b[0m     info \u001b[39m=\u001b[39m dataset_importer\u001b[39m.\u001b[39mget_dataset_info()\n",
      "File \u001b[1;32m~\\anaconda3\\envs\\Tensorflow-cpu\\lib\\site-packages\\fiftyone\\core\\dataset.py:1378\u001b[0m, in \u001b[0;36mDataset.add_samples\u001b[1;34m(self, samples, expand_schema, validate, num_samples)\u001b[0m\n\u001b[0;32m   <a href='file:///c%3A/Users/melti/anaconda3/envs/Tensorflow-cpu/lib/site-packages/fiftyone/core/dataset.py?line=1375'>1376</a>\u001b[0m sample_ids \u001b[39m=\u001b[39m []\n\u001b[0;32m   <a href='file:///c%3A/Users/melti/anaconda3/envs/Tensorflow-cpu/lib/site-packages/fiftyone/core/dataset.py?line=1376'>1377</a>\u001b[0m \u001b[39mwith\u001b[39;00m fou\u001b[39m.\u001b[39mProgressBar(total\u001b[39m=\u001b[39mnum_samples) \u001b[39mas\u001b[39;00m pb:\n\u001b[1;32m-> <a href='file:///c%3A/Users/melti/anaconda3/envs/Tensorflow-cpu/lib/site-packages/fiftyone/core/dataset.py?line=1377'>1378</a>\u001b[0m     \u001b[39mfor\u001b[39;00m batch \u001b[39min\u001b[39;00m batcher:\n\u001b[0;32m   <a href='file:///c%3A/Users/melti/anaconda3/envs/Tensorflow-cpu/lib/site-packages/fiftyone/core/dataset.py?line=1378'>1379</a>\u001b[0m         sample_ids\u001b[39m.\u001b[39mextend(\n\u001b[0;32m   <a href='file:///c%3A/Users/melti/anaconda3/envs/Tensorflow-cpu/lib/site-packages/fiftyone/core/dataset.py?line=1379'>1380</a>\u001b[0m             \u001b[39mself\u001b[39m\u001b[39m.\u001b[39m_add_samples_batch(batch, expand_schema, validate)\n\u001b[0;32m   <a href='file:///c%3A/Users/melti/anaconda3/envs/Tensorflow-cpu/lib/site-packages/fiftyone/core/dataset.py?line=1380'>1381</a>\u001b[0m         )\n\u001b[0;32m   <a href='file:///c%3A/Users/melti/anaconda3/envs/Tensorflow-cpu/lib/site-packages/fiftyone/core/dataset.py?line=1381'>1382</a>\u001b[0m         pb\u001b[39m.\u001b[39mupdate(count\u001b[39m=\u001b[39m\u001b[39mlen\u001b[39m(batch))\n",
      "File \u001b[1;32m~\\anaconda3\\envs\\Tensorflow-cpu\\lib\\site-packages\\fiftyone\\core\\utils.py:900\u001b[0m, in \u001b[0;36mDynamicBatcher.__next__\u001b[1;34m(self)\u001b[0m\n\u001b[0;32m    <a href='file:///c%3A/Users/melti/anaconda3/envs/Tensorflow-cpu/lib/site-packages/fiftyone/core/utils.py?line=897'>898</a>\u001b[0m     idx \u001b[39m=\u001b[39m \u001b[39m0\u001b[39m\n\u001b[0;32m    <a href='file:///c%3A/Users/melti/anaconda3/envs/Tensorflow-cpu/lib/site-packages/fiftyone/core/utils.py?line=898'>899</a>\u001b[0m     \u001b[39mwhile\u001b[39;00m idx \u001b[39m<\u001b[39m batch_size:\n\u001b[1;32m--> <a href='file:///c%3A/Users/melti/anaconda3/envs/Tensorflow-cpu/lib/site-packages/fiftyone/core/utils.py?line=899'>900</a>\u001b[0m         batch\u001b[39m.\u001b[39mappend(\u001b[39mnext\u001b[39;49m(\u001b[39mself\u001b[39;49m\u001b[39m.\u001b[39;49m_iter))\n\u001b[0;32m    <a href='file:///c%3A/Users/melti/anaconda3/envs/Tensorflow-cpu/lib/site-packages/fiftyone/core/utils.py?line=900'>901</a>\u001b[0m         idx \u001b[39m+\u001b[39m\u001b[39m=\u001b[39m \u001b[39m1\u001b[39m\n\u001b[0;32m    <a href='file:///c%3A/Users/melti/anaconda3/envs/Tensorflow-cpu/lib/site-packages/fiftyone/core/utils.py?line=902'>903</a>\u001b[0m \u001b[39mexcept\u001b[39;00m \u001b[39mStopIteration\u001b[39;00m:\n",
      "File \u001b[1;32m~\\anaconda3\\envs\\Tensorflow-cpu\\lib\\site-packages\\fiftyone\\utils\\coco.py:461\u001b[0m, in \u001b[0;36mCOCODetectionDatasetImporter.__next__\u001b[1;34m(self)\u001b[0m\n\u001b[0;32m    <a href='file:///c%3A/Users/melti/anaconda3/envs/Tensorflow-cpu/lib/site-packages/fiftyone/utils/coco.py?line=452'>453</a>\u001b[0m     segmentations \u001b[39m=\u001b[39m _coco_objects_to_polylines(\n\u001b[0;32m    <a href='file:///c%3A/Users/melti/anaconda3/envs/Tensorflow-cpu/lib/site-packages/fiftyone/utils/coco.py?line=453'>454</a>\u001b[0m         coco_objects,\n\u001b[0;32m    <a href='file:///c%3A/Users/melti/anaconda3/envs/Tensorflow-cpu/lib/site-packages/fiftyone/utils/coco.py?line=454'>455</a>\u001b[0m         frame_size,\n\u001b[1;32m   (...)\u001b[0m\n\u001b[0;32m    <a href='file:///c%3A/Users/melti/anaconda3/envs/Tensorflow-cpu/lib/site-packages/fiftyone/utils/coco.py?line=457'>458</a>\u001b[0m         \u001b[39mself\u001b[39m\u001b[39m.\u001b[39mtolerance,\n\u001b[0;32m    <a href='file:///c%3A/Users/melti/anaconda3/envs/Tensorflow-cpu/lib/site-packages/fiftyone/utils/coco.py?line=458'>459</a>\u001b[0m     )\n\u001b[0;32m    <a href='file:///c%3A/Users/melti/anaconda3/envs/Tensorflow-cpu/lib/site-packages/fiftyone/utils/coco.py?line=459'>460</a>\u001b[0m \u001b[39melse\u001b[39;00m:\n\u001b[1;32m--> <a href='file:///c%3A/Users/melti/anaconda3/envs/Tensorflow-cpu/lib/site-packages/fiftyone/utils/coco.py?line=460'>461</a>\u001b[0m     segmentations \u001b[39m=\u001b[39m _coco_objects_to_detections(\n\u001b[0;32m    <a href='file:///c%3A/Users/melti/anaconda3/envs/Tensorflow-cpu/lib/site-packages/fiftyone/utils/coco.py?line=461'>462</a>\u001b[0m         coco_objects,\n\u001b[0;32m    <a href='file:///c%3A/Users/melti/anaconda3/envs/Tensorflow-cpu/lib/site-packages/fiftyone/utils/coco.py?line=462'>463</a>\u001b[0m         frame_size,\n\u001b[0;32m    <a href='file:///c%3A/Users/melti/anaconda3/envs/Tensorflow-cpu/lib/site-packages/fiftyone/utils/coco.py?line=463'>464</a>\u001b[0m         \u001b[39mself\u001b[39;49m\u001b[39m.\u001b[39;49m_classes,\n\u001b[0;32m    <a href='file:///c%3A/Users/melti/anaconda3/envs/Tensorflow-cpu/lib/site-packages/fiftyone/utils/coco.py?line=464'>465</a>\u001b[0m         \u001b[39mself\u001b[39;49m\u001b[39m.\u001b[39;49m_supercategory_map,\n\u001b[0;32m    <a href='file:///c%3A/Users/melti/anaconda3/envs/Tensorflow-cpu/lib/site-packages/fiftyone/utils/coco.py?line=465'>466</a>\u001b[0m         \u001b[39mTrue\u001b[39;49;00m,  \u001b[39m# load segmentations\u001b[39;49;00m\n\u001b[0;32m    <a href='file:///c%3A/Users/melti/anaconda3/envs/Tensorflow-cpu/lib/site-packages/fiftyone/utils/coco.py?line=466'>467</a>\u001b[0m     )\n\u001b[0;32m    <a href='file:///c%3A/Users/melti/anaconda3/envs/Tensorflow-cpu/lib/site-packages/fiftyone/utils/coco.py?line=468'>469</a>\u001b[0m \u001b[39mif\u001b[39;00m segmentations \u001b[39mis\u001b[39;00m \u001b[39mnot\u001b[39;00m \u001b[39mNone\u001b[39;00m:\n\u001b[0;32m    <a href='file:///c%3A/Users/melti/anaconda3/envs/Tensorflow-cpu/lib/site-packages/fiftyone/utils/coco.py?line=469'>470</a>\u001b[0m     label[\u001b[39m\"\u001b[39m\u001b[39msegmentations\u001b[39m\u001b[39m\"\u001b[39m] \u001b[39m=\u001b[39m segmentations\n",
      "File \u001b[1;32m~\\anaconda3\\envs\\Tensorflow-cpu\\lib\\site-packages\\fiftyone\\utils\\coco.py:2021\u001b[0m, in \u001b[0;36m_coco_objects_to_detections\u001b[1;34m(coco_objects, frame_size, classes, supercategory_map, load_segmentations)\u001b[0m\n\u001b[0;32m   <a href='file:///c%3A/Users/melti/anaconda3/envs/Tensorflow-cpu/lib/site-packages/fiftyone/utils/coco.py?line=2018'>2019</a>\u001b[0m detections \u001b[39m=\u001b[39m []\n\u001b[0;32m   <a href='file:///c%3A/Users/melti/anaconda3/envs/Tensorflow-cpu/lib/site-packages/fiftyone/utils/coco.py?line=2019'>2020</a>\u001b[0m \u001b[39mfor\u001b[39;00m coco_obj \u001b[39min\u001b[39;00m coco_objects:\n\u001b[1;32m-> <a href='file:///c%3A/Users/melti/anaconda3/envs/Tensorflow-cpu/lib/site-packages/fiftyone/utils/coco.py?line=2020'>2021</a>\u001b[0m     detection \u001b[39m=\u001b[39m coco_obj\u001b[39m.\u001b[39;49mto_detection(\n\u001b[0;32m   <a href='file:///c%3A/Users/melti/anaconda3/envs/Tensorflow-cpu/lib/site-packages/fiftyone/utils/coco.py?line=2021'>2022</a>\u001b[0m         frame_size,\n\u001b[0;32m   <a href='file:///c%3A/Users/melti/anaconda3/envs/Tensorflow-cpu/lib/site-packages/fiftyone/utils/coco.py?line=2022'>2023</a>\u001b[0m         classes\u001b[39m=\u001b[39;49mclasses,\n\u001b[0;32m   <a href='file:///c%3A/Users/melti/anaconda3/envs/Tensorflow-cpu/lib/site-packages/fiftyone/utils/coco.py?line=2023'>2024</a>\u001b[0m         supercategory_map\u001b[39m=\u001b[39;49msupercategory_map,\n\u001b[0;32m   <a href='file:///c%3A/Users/melti/anaconda3/envs/Tensorflow-cpu/lib/site-packages/fiftyone/utils/coco.py?line=2024'>2025</a>\u001b[0m         load_segmentation\u001b[39m=\u001b[39;49mload_segmentations,\n\u001b[0;32m   <a href='file:///c%3A/Users/melti/anaconda3/envs/Tensorflow-cpu/lib/site-packages/fiftyone/utils/coco.py?line=2025'>2026</a>\u001b[0m     )\n\u001b[0;32m   <a href='file:///c%3A/Users/melti/anaconda3/envs/Tensorflow-cpu/lib/site-packages/fiftyone/utils/coco.py?line=2027'>2028</a>\u001b[0m     \u001b[39mif\u001b[39;00m load_segmentations \u001b[39mand\u001b[39;00m detection\u001b[39m.\u001b[39mmask \u001b[39mis\u001b[39;00m \u001b[39mNone\u001b[39;00m:\n\u001b[0;32m   <a href='file:///c%3A/Users/melti/anaconda3/envs/Tensorflow-cpu/lib/site-packages/fiftyone/utils/coco.py?line=2028'>2029</a>\u001b[0m         msg \u001b[39m=\u001b[39m \u001b[39m\"\u001b[39m\u001b[39mSkipping object with no segmentation mask\u001b[39m\u001b[39m\"\u001b[39m\n",
      "File \u001b[1;32m~\\anaconda3\\envs\\Tensorflow-cpu\\lib\\site-packages\\fiftyone\\utils\\coco.py:1020\u001b[0m, in \u001b[0;36mCOCOObject.to_detection\u001b[1;34m(self, frame_size, classes, supercategory_map, load_segmentation)\u001b[0m\n\u001b[0;32m   <a href='file:///c%3A/Users/melti/anaconda3/envs/Tensorflow-cpu/lib/site-packages/fiftyone/utils/coco.py?line=1016'>1017</a>\u001b[0m bounding_box \u001b[39m=\u001b[39m [x \u001b[39m/\u001b[39m width, y \u001b[39m/\u001b[39m height, w \u001b[39m/\u001b[39m width, h \u001b[39m/\u001b[39m height]\n\u001b[0;32m   <a href='file:///c%3A/Users/melti/anaconda3/envs/Tensorflow-cpu/lib/site-packages/fiftyone/utils/coco.py?line=1018'>1019</a>\u001b[0m \u001b[39mif\u001b[39;00m load_segmentation \u001b[39mand\u001b[39;00m \u001b[39mself\u001b[39m\u001b[39m.\u001b[39msegmentation:\n\u001b[1;32m-> <a href='file:///c%3A/Users/melti/anaconda3/envs/Tensorflow-cpu/lib/site-packages/fiftyone/utils/coco.py?line=1019'>1020</a>\u001b[0m     mask \u001b[39m=\u001b[39m _coco_segmentation_to_mask(\n\u001b[0;32m   <a href='file:///c%3A/Users/melti/anaconda3/envs/Tensorflow-cpu/lib/site-packages/fiftyone/utils/coco.py?line=1020'>1021</a>\u001b[0m         \u001b[39mself\u001b[39;49m\u001b[39m.\u001b[39;49msegmentation, \u001b[39mself\u001b[39;49m\u001b[39m.\u001b[39;49mbbox, frame_size\n\u001b[0;32m   <a href='file:///c%3A/Users/melti/anaconda3/envs/Tensorflow-cpu/lib/site-packages/fiftyone/utils/coco.py?line=1021'>1022</a>\u001b[0m     )\n\u001b[0;32m   <a href='file:///c%3A/Users/melti/anaconda3/envs/Tensorflow-cpu/lib/site-packages/fiftyone/utils/coco.py?line=1022'>1023</a>\u001b[0m \u001b[39melse\u001b[39;00m:\n\u001b[0;32m   <a href='file:///c%3A/Users/melti/anaconda3/envs/Tensorflow-cpu/lib/site-packages/fiftyone/utils/coco.py?line=1023'>1024</a>\u001b[0m     mask \u001b[39m=\u001b[39m \u001b[39mNone\u001b[39;00m\n",
      "File \u001b[1;32m~\\anaconda3\\envs\\Tensorflow-cpu\\lib\\site-packages\\fiftyone\\utils\\coco.py:2106\u001b[0m, in \u001b[0;36m_coco_segmentation_to_mask\u001b[1;34m(segmentation, bbox, frame_size)\u001b[0m\n\u001b[0;32m   <a href='file:///c%3A/Users/melti/anaconda3/envs/Tensorflow-cpu/lib/site-packages/fiftyone/utils/coco.py?line=2100'>2101</a>\u001b[0m width, height \u001b[39m=\u001b[39m frame_size\n\u001b[0;32m   <a href='file:///c%3A/Users/melti/anaconda3/envs/Tensorflow-cpu/lib/site-packages/fiftyone/utils/coco.py?line=2102'>2103</a>\u001b[0m \u001b[39mif\u001b[39;00m \u001b[39misinstance\u001b[39m(segmentation, \u001b[39mlist\u001b[39m):\n\u001b[0;32m   <a href='file:///c%3A/Users/melti/anaconda3/envs/Tensorflow-cpu/lib/site-packages/fiftyone/utils/coco.py?line=2103'>2104</a>\u001b[0m     \u001b[39m# Polygon -- a single object might consist of multiple parts, so merge\u001b[39;00m\n\u001b[0;32m   <a href='file:///c%3A/Users/melti/anaconda3/envs/Tensorflow-cpu/lib/site-packages/fiftyone/utils/coco.py?line=2104'>2105</a>\u001b[0m     \u001b[39m# all parts into one mask RLE code\u001b[39;00m\n\u001b[1;32m-> <a href='file:///c%3A/Users/melti/anaconda3/envs/Tensorflow-cpu/lib/site-packages/fiftyone/utils/coco.py?line=2105'>2106</a>\u001b[0m     rle \u001b[39m=\u001b[39m mask_utils\u001b[39m.\u001b[39;49mmerge(\n\u001b[0;32m   <a href='file:///c%3A/Users/melti/anaconda3/envs/Tensorflow-cpu/lib/site-packages/fiftyone/utils/coco.py?line=2106'>2107</a>\u001b[0m         mask_utils\u001b[39m.\u001b[39mfrPyObjects(segmentation, height, width)\n\u001b[0;32m   <a href='file:///c%3A/Users/melti/anaconda3/envs/Tensorflow-cpu/lib/site-packages/fiftyone/utils/coco.py?line=2107'>2108</a>\u001b[0m     )\n\u001b[0;32m   <a href='file:///c%3A/Users/melti/anaconda3/envs/Tensorflow-cpu/lib/site-packages/fiftyone/utils/coco.py?line=2108'>2109</a>\u001b[0m \u001b[39melif\u001b[39;00m \u001b[39misinstance\u001b[39m(segmentation[\u001b[39m\"\u001b[39m\u001b[39mcounts\u001b[39m\u001b[39m\"\u001b[39m], \u001b[39mlist\u001b[39m):\n\u001b[0;32m   <a href='file:///c%3A/Users/melti/anaconda3/envs/Tensorflow-cpu/lib/site-packages/fiftyone/utils/coco.py?line=2109'>2110</a>\u001b[0m     \u001b[39m# Uncompressed RLE\u001b[39;00m\n\u001b[0;32m   <a href='file:///c%3A/Users/melti/anaconda3/envs/Tensorflow-cpu/lib/site-packages/fiftyone/utils/coco.py?line=2110'>2111</a>\u001b[0m     rle \u001b[39m=\u001b[39m mask_utils\u001b[39m.\u001b[39mfrPyObjects(segmentation, height, width)\n",
      "File \u001b[1;32m~\\anaconda3\\envs\\Tensorflow-cpu\\lib\\site-packages\\fiftyone\\core\\utils.py:611\u001b[0m, in \u001b[0;36mLazyModule.__getattr__\u001b[1;34m(self, item)\u001b[0m\n\u001b[0;32m    <a href='file:///c%3A/Users/melti/anaconda3/envs/Tensorflow-cpu/lib/site-packages/fiftyone/core/utils.py?line=608'>609</a>\u001b[0m \u001b[39mdef\u001b[39;00m \u001b[39m__getattr__\u001b[39m(\u001b[39mself\u001b[39m, item):\n\u001b[0;32m    <a href='file:///c%3A/Users/melti/anaconda3/envs/Tensorflow-cpu/lib/site-packages/fiftyone/core/utils.py?line=609'>610</a>\u001b[0m     \u001b[39mif\u001b[39;00m \u001b[39mself\u001b[39m\u001b[39m.\u001b[39m_module \u001b[39mis\u001b[39;00m \u001b[39mNone\u001b[39;00m:\n\u001b[1;32m--> <a href='file:///c%3A/Users/melti/anaconda3/envs/Tensorflow-cpu/lib/site-packages/fiftyone/core/utils.py?line=610'>611</a>\u001b[0m         \u001b[39mself\u001b[39;49m\u001b[39m.\u001b[39;49m_import_module()\n\u001b[0;32m    <a href='file:///c%3A/Users/melti/anaconda3/envs/Tensorflow-cpu/lib/site-packages/fiftyone/core/utils.py?line=612'>613</a>\u001b[0m     \u001b[39mreturn\u001b[39;00m \u001b[39mgetattr\u001b[39m(\u001b[39mself\u001b[39m\u001b[39m.\u001b[39m_module, item)\n",
      "File \u001b[1;32m~\\anaconda3\\envs\\Tensorflow-cpu\\lib\\site-packages\\fiftyone\\core\\utils.py:624\u001b[0m, in \u001b[0;36mLazyModule._import_module\u001b[1;34m(self)\u001b[0m\n\u001b[0;32m    <a href='file:///c%3A/Users/melti/anaconda3/envs/Tensorflow-cpu/lib/site-packages/fiftyone/core/utils.py?line=620'>621</a>\u001b[0m \u001b[39mdef\u001b[39;00m \u001b[39m_import_module\u001b[39m(\u001b[39mself\u001b[39m):\n\u001b[0;32m    <a href='file:///c%3A/Users/melti/anaconda3/envs/Tensorflow-cpu/lib/site-packages/fiftyone/core/utils.py?line=621'>622</a>\u001b[0m     \u001b[39m# Execute callback, if any\u001b[39;00m\n\u001b[0;32m    <a href='file:///c%3A/Users/melti/anaconda3/envs/Tensorflow-cpu/lib/site-packages/fiftyone/core/utils.py?line=622'>623</a>\u001b[0m     \u001b[39mif\u001b[39;00m \u001b[39mself\u001b[39m\u001b[39m.\u001b[39m_callback \u001b[39mis\u001b[39;00m \u001b[39mnot\u001b[39;00m \u001b[39mNone\u001b[39;00m:\n\u001b[1;32m--> <a href='file:///c%3A/Users/melti/anaconda3/envs/Tensorflow-cpu/lib/site-packages/fiftyone/core/utils.py?line=623'>624</a>\u001b[0m         \u001b[39mself\u001b[39;49m\u001b[39m.\u001b[39;49m_callback()\n\u001b[0;32m    <a href='file:///c%3A/Users/melti/anaconda3/envs/Tensorflow-cpu/lib/site-packages/fiftyone/core/utils.py?line=625'>626</a>\u001b[0m     \u001b[39m# Actually import the module\u001b[39;00m\n\u001b[0;32m    <a href='file:///c%3A/Users/melti/anaconda3/envs/Tensorflow-cpu/lib/site-packages/fiftyone/core/utils.py?line=626'>627</a>\u001b[0m     module \u001b[39m=\u001b[39m importlib\u001b[39m.\u001b[39mimport_module(\u001b[39mself\u001b[39m\u001b[39m.\u001b[39m\u001b[39m__name__\u001b[39m)\n",
      "File \u001b[1;32m~\\anaconda3\\envs\\Tensorflow-cpu\\lib\\site-packages\\fiftyone\\utils\\coco.py:37\u001b[0m, in \u001b[0;36m<lambda>\u001b[1;34m()\u001b[0m\n\u001b[0;32m     <a href='file:///c%3A/Users/melti/anaconda3/envs/Tensorflow-cpu/lib/site-packages/fiftyone/utils/coco.py?line=32'>33</a>\u001b[0m \u001b[39mimport\u001b[39;00m \u001b[39mfiftyone\u001b[39;00m\u001b[39m.\u001b[39;00m\u001b[39mutils\u001b[39;00m\u001b[39m.\u001b[39;00m\u001b[39mdata\u001b[39;00m \u001b[39mas\u001b[39;00m \u001b[39mfoud\u001b[39;00m\n\u001b[0;32m     <a href='file:///c%3A/Users/melti/anaconda3/envs/Tensorflow-cpu/lib/site-packages/fiftyone/utils/coco.py?line=33'>34</a>\u001b[0m \u001b[39mimport\u001b[39;00m \u001b[39mfiftyone\u001b[39;00m\u001b[39m.\u001b[39;00m\u001b[39mutils\u001b[39;00m\u001b[39m.\u001b[39;00m\u001b[39meta\u001b[39;00m \u001b[39mas\u001b[39;00m \u001b[39mfoue\u001b[39;00m\n\u001b[0;32m     <a href='file:///c%3A/Users/melti/anaconda3/envs/Tensorflow-cpu/lib/site-packages/fiftyone/utils/coco.py?line=35'>36</a>\u001b[0m mask_utils \u001b[39m=\u001b[39m fou\u001b[39m.\u001b[39mlazy_import(\n\u001b[1;32m---> <a href='file:///c%3A/Users/melti/anaconda3/envs/Tensorflow-cpu/lib/site-packages/fiftyone/utils/coco.py?line=36'>37</a>\u001b[0m     \u001b[39m\"\u001b[39m\u001b[39mpycocotools.mask\u001b[39m\u001b[39m\"\u001b[39m, callback\u001b[39m=\u001b[39m\u001b[39mlambda\u001b[39;00m: fou\u001b[39m.\u001b[39;49mensure_import(\u001b[39m\"\u001b[39;49m\u001b[39mpycocotools\u001b[39;49m\u001b[39m\"\u001b[39;49m)\n\u001b[0;32m     <a href='file:///c%3A/Users/melti/anaconda3/envs/Tensorflow-cpu/lib/site-packages/fiftyone/utils/coco.py?line=37'>38</a>\u001b[0m )\n\u001b[0;32m     <a href='file:///c%3A/Users/melti/anaconda3/envs/Tensorflow-cpu/lib/site-packages/fiftyone/utils/coco.py?line=40'>41</a>\u001b[0m logger \u001b[39m=\u001b[39m logging\u001b[39m.\u001b[39mgetLogger(\u001b[39m__name__\u001b[39m)\n\u001b[0;32m     <a href='file:///c%3A/Users/melti/anaconda3/envs/Tensorflow-cpu/lib/site-packages/fiftyone/utils/coco.py?line=43'>44</a>\u001b[0m \u001b[39mdef\u001b[39;00m \u001b[39madd_coco_labels\u001b[39m(\n\u001b[0;32m     <a href='file:///c%3A/Users/melti/anaconda3/envs/Tensorflow-cpu/lib/site-packages/fiftyone/utils/coco.py?line=44'>45</a>\u001b[0m     sample_collection,\n\u001b[0;32m     <a href='file:///c%3A/Users/melti/anaconda3/envs/Tensorflow-cpu/lib/site-packages/fiftyone/utils/coco.py?line=45'>46</a>\u001b[0m     label_field,\n\u001b[1;32m   (...)\u001b[0m\n\u001b[0;32m     <a href='file:///c%3A/Users/melti/anaconda3/envs/Tensorflow-cpu/lib/site-packages/fiftyone/utils/coco.py?line=52'>53</a>\u001b[0m     tolerance\u001b[39m=\u001b[39m\u001b[39mNone\u001b[39;00m,\n\u001b[0;32m     <a href='file:///c%3A/Users/melti/anaconda3/envs/Tensorflow-cpu/lib/site-packages/fiftyone/utils/coco.py?line=53'>54</a>\u001b[0m ):\n",
      "File \u001b[1;32m~\\anaconda3\\envs\\Tensorflow-cpu\\lib\\site-packages\\fiftyone\\core\\utils.py:388\u001b[0m, in \u001b[0;36mensure_import\u001b[1;34m(requirement_str, error_level, error_msg, log_success)\u001b[0m\n\u001b[0;32m    <a href='file:///c%3A/Users/melti/anaconda3/envs/Tensorflow-cpu/lib/site-packages/fiftyone/core/utils.py?line=384'>385</a>\u001b[0m \u001b[39mif\u001b[39;00m error_level \u001b[39mis\u001b[39;00m \u001b[39mNone\u001b[39;00m:\n\u001b[0;32m    <a href='file:///c%3A/Users/melti/anaconda3/envs/Tensorflow-cpu/lib/site-packages/fiftyone/core/utils.py?line=385'>386</a>\u001b[0m     error_level \u001b[39m=\u001b[39m fo\u001b[39m.\u001b[39mconfig\u001b[39m.\u001b[39mrequirement_error_level\n\u001b[1;32m--> <a href='file:///c%3A/Users/melti/anaconda3/envs/Tensorflow-cpu/lib/site-packages/fiftyone/core/utils.py?line=387'>388</a>\u001b[0m \u001b[39mreturn\u001b[39;00m etau\u001b[39m.\u001b[39;49mensure_import(\n\u001b[0;32m    <a href='file:///c%3A/Users/melti/anaconda3/envs/Tensorflow-cpu/lib/site-packages/fiftyone/core/utils.py?line=388'>389</a>\u001b[0m     requirement_str,\n\u001b[0;32m    <a href='file:///c%3A/Users/melti/anaconda3/envs/Tensorflow-cpu/lib/site-packages/fiftyone/core/utils.py?line=389'>390</a>\u001b[0m     error_level\u001b[39m=\u001b[39;49merror_level,\n\u001b[0;32m    <a href='file:///c%3A/Users/melti/anaconda3/envs/Tensorflow-cpu/lib/site-packages/fiftyone/core/utils.py?line=390'>391</a>\u001b[0m     error_msg\u001b[39m=\u001b[39;49merror_msg,\n\u001b[0;32m    <a href='file:///c%3A/Users/melti/anaconda3/envs/Tensorflow-cpu/lib/site-packages/fiftyone/core/utils.py?line=391'>392</a>\u001b[0m     error_suffix\u001b[39m=\u001b[39;49m_REQUIREMENT_ERROR_SUFFIX,\n\u001b[0;32m    <a href='file:///c%3A/Users/melti/anaconda3/envs/Tensorflow-cpu/lib/site-packages/fiftyone/core/utils.py?line=392'>393</a>\u001b[0m     log_success\u001b[39m=\u001b[39;49mlog_success,\n\u001b[0;32m    <a href='file:///c%3A/Users/melti/anaconda3/envs/Tensorflow-cpu/lib/site-packages/fiftyone/core/utils.py?line=393'>394</a>\u001b[0m )\n",
      "File \u001b[1;32m~\\anaconda3\\envs\\Tensorflow-cpu\\lib\\site-packages\\eta\\core\\utils.py:773\u001b[0m, in \u001b[0;36mensure_import\u001b[1;34m(requirement_str, error_level, error_msg, error_suffix, log_success)\u001b[0m\n\u001b[0;32m    <a href='file:///c%3A/Users/melti/anaconda3/envs/Tensorflow-cpu/lib/site-packages/eta/core/utils.py?line=767'>768</a>\u001b[0m parse_requirement \u001b[39m=\u001b[39m \u001b[39mlambda\u001b[39;00m req_str: _get_module_version(\n\u001b[0;32m    <a href='file:///c%3A/Users/melti/anaconda3/envs/Tensorflow-cpu/lib/site-packages/eta/core/utils.py?line=768'>769</a>\u001b[0m     req_str, error_level\n\u001b[0;32m    <a href='file:///c%3A/Users/melti/anaconda3/envs/Tensorflow-cpu/lib/site-packages/eta/core/utils.py?line=769'>770</a>\u001b[0m )\n\u001b[0;32m    <a href='file:///c%3A/Users/melti/anaconda3/envs/Tensorflow-cpu/lib/site-packages/eta/core/utils.py?line=770'>771</a>\u001b[0m error_cls \u001b[39m=\u001b[39m \u001b[39mImportError\u001b[39;00m\n\u001b[1;32m--> <a href='file:///c%3A/Users/melti/anaconda3/envs/Tensorflow-cpu/lib/site-packages/eta/core/utils.py?line=772'>773</a>\u001b[0m \u001b[39mreturn\u001b[39;00m _ensure_requirements(\n\u001b[0;32m    <a href='file:///c%3A/Users/melti/anaconda3/envs/Tensorflow-cpu/lib/site-packages/eta/core/utils.py?line=773'>774</a>\u001b[0m     requirement_str,\n\u001b[0;32m    <a href='file:///c%3A/Users/melti/anaconda3/envs/Tensorflow-cpu/lib/site-packages/eta/core/utils.py?line=774'>775</a>\u001b[0m     parse_requirement,\n\u001b[0;32m    <a href='file:///c%3A/Users/melti/anaconda3/envs/Tensorflow-cpu/lib/site-packages/eta/core/utils.py?line=775'>776</a>\u001b[0m     error_level,\n\u001b[0;32m    <a href='file:///c%3A/Users/melti/anaconda3/envs/Tensorflow-cpu/lib/site-packages/eta/core/utils.py?line=776'>777</a>\u001b[0m     error_cls,\n\u001b[0;32m    <a href='file:///c%3A/Users/melti/anaconda3/envs/Tensorflow-cpu/lib/site-packages/eta/core/utils.py?line=777'>778</a>\u001b[0m     error_msg,\n\u001b[0;32m    <a href='file:///c%3A/Users/melti/anaconda3/envs/Tensorflow-cpu/lib/site-packages/eta/core/utils.py?line=778'>779</a>\u001b[0m     error_suffix,\n\u001b[0;32m    <a href='file:///c%3A/Users/melti/anaconda3/envs/Tensorflow-cpu/lib/site-packages/eta/core/utils.py?line=779'>780</a>\u001b[0m     log_success,\n\u001b[0;32m    <a href='file:///c%3A/Users/melti/anaconda3/envs/Tensorflow-cpu/lib/site-packages/eta/core/utils.py?line=780'>781</a>\u001b[0m )\n",
      "File \u001b[1;32m~\\anaconda3\\envs\\Tensorflow-cpu\\lib\\site-packages\\eta\\core\\utils.py:836\u001b[0m, in \u001b[0;36m_ensure_requirements\u001b[1;34m(requirement_str, parse_requirement, error_level, error_cls, error_msg, error_suffix, log_success)\u001b[0m\n\u001b[0;32m    <a href='file:///c%3A/Users/melti/anaconda3/envs/Tensorflow-cpu/lib/site-packages/eta/core/utils.py?line=833'>834</a>\u001b[0m \u001b[39m# Require all\u001b[39;00m\n\u001b[0;32m    <a href='file:///c%3A/Users/melti/anaconda3/envs/Tensorflow-cpu/lib/site-packages/eta/core/utils.py?line=834'>835</a>\u001b[0m results \u001b[39m=\u001b[39m [parse_requirement(req_str) \u001b[39mfor\u001b[39;00m req_str \u001b[39min\u001b[39;00m requirement_str]\n\u001b[1;32m--> <a href='file:///c%3A/Users/melti/anaconda3/envs/Tensorflow-cpu/lib/site-packages/eta/core/utils.py?line=835'>836</a>\u001b[0m \u001b[39mreturn\u001b[39;00m _ensure_all_requirements(\n\u001b[0;32m    <a href='file:///c%3A/Users/melti/anaconda3/envs/Tensorflow-cpu/lib/site-packages/eta/core/utils.py?line=836'>837</a>\u001b[0m     results,\n\u001b[0;32m    <a href='file:///c%3A/Users/melti/anaconda3/envs/Tensorflow-cpu/lib/site-packages/eta/core/utils.py?line=837'>838</a>\u001b[0m     error_level,\n\u001b[0;32m    <a href='file:///c%3A/Users/melti/anaconda3/envs/Tensorflow-cpu/lib/site-packages/eta/core/utils.py?line=838'>839</a>\u001b[0m     log_success,\n\u001b[0;32m    <a href='file:///c%3A/Users/melti/anaconda3/envs/Tensorflow-cpu/lib/site-packages/eta/core/utils.py?line=839'>840</a>\u001b[0m     error_cls\u001b[39m=\u001b[39;49merror_cls,\n\u001b[0;32m    <a href='file:///c%3A/Users/melti/anaconda3/envs/Tensorflow-cpu/lib/site-packages/eta/core/utils.py?line=840'>841</a>\u001b[0m     error_msg\u001b[39m=\u001b[39;49merror_msg,\n\u001b[0;32m    <a href='file:///c%3A/Users/melti/anaconda3/envs/Tensorflow-cpu/lib/site-packages/eta/core/utils.py?line=841'>842</a>\u001b[0m     error_suffix\u001b[39m=\u001b[39;49merror_suffix,\n\u001b[0;32m    <a href='file:///c%3A/Users/melti/anaconda3/envs/Tensorflow-cpu/lib/site-packages/eta/core/utils.py?line=842'>843</a>\u001b[0m )\n",
      "File \u001b[1;32m~\\anaconda3\\envs\\Tensorflow-cpu\\lib\\site-packages\\eta\\core\\utils.py:914\u001b[0m, in \u001b[0;36m_ensure_all_requirements\u001b[1;34m(results, error_level, log_success, error_cls, error_msg, error_suffix)\u001b[0m\n\u001b[0;32m    <a href='file:///c%3A/Users/melti/anaconda3/envs/Tensorflow-cpu/lib/site-packages/eta/core/utils.py?line=910'>911</a>\u001b[0m \u001b[39mif\u001b[39;00m error_suffix \u001b[39mis\u001b[39;00m \u001b[39mnot\u001b[39;00m \u001b[39mNone\u001b[39;00m \u001b[39mand\u001b[39;00m error_level \u001b[39m<\u001b[39m\u001b[39m=\u001b[39m \u001b[39m0\u001b[39m:\n\u001b[0;32m    <a href='file:///c%3A/Users/melti/anaconda3/envs/Tensorflow-cpu/lib/site-packages/eta/core/utils.py?line=911'>912</a>\u001b[0m     error_msg \u001b[39m+\u001b[39m\u001b[39m=\u001b[39m \u001b[39m\"\u001b[39m\u001b[39m\\n\u001b[39;00m\u001b[39m\\n\u001b[39;00m\u001b[39m\"\u001b[39m \u001b[39m+\u001b[39m error_suffix\n\u001b[1;32m--> <a href='file:///c%3A/Users/melti/anaconda3/envs/Tensorflow-cpu/lib/site-packages/eta/core/utils.py?line=913'>914</a>\u001b[0m handle_error(error_cls(error_msg), error_level, base_error\u001b[39m=\u001b[39;49mlast_error)\n\u001b[0;32m    <a href='file:///c%3A/Users/melti/anaconda3/envs/Tensorflow-cpu/lib/site-packages/eta/core/utils.py?line=915'>916</a>\u001b[0m \u001b[39mreturn\u001b[39;00m \u001b[39mFalse\u001b[39;00m\n",
      "File \u001b[1;32m~\\anaconda3\\envs\\Tensorflow-cpu\\lib\\site-packages\\eta\\core\\utils.py:994\u001b[0m, in \u001b[0;36mhandle_error\u001b[1;34m(error, error_level, base_error)\u001b[0m\n\u001b[0;32m    <a href='file:///c%3A/Users/melti/anaconda3/envs/Tensorflow-cpu/lib/site-packages/eta/core/utils.py?line=991'>992</a>\u001b[0m \u001b[39mif\u001b[39;00m error_level \u001b[39m<\u001b[39m\u001b[39m=\u001b[39m \u001b[39m0\u001b[39m:\n\u001b[0;32m    <a href='file:///c%3A/Users/melti/anaconda3/envs/Tensorflow-cpu/lib/site-packages/eta/core/utils.py?line=992'>993</a>\u001b[0m     \u001b[39mif\u001b[39;00m base_error \u001b[39mis\u001b[39;00m \u001b[39mnot\u001b[39;00m \u001b[39mNone\u001b[39;00m:\n\u001b[1;32m--> <a href='file:///c%3A/Users/melti/anaconda3/envs/Tensorflow-cpu/lib/site-packages/eta/core/utils.py?line=993'>994</a>\u001b[0m         six\u001b[39m.\u001b[39;49mraise_from(error, base_error)\n\u001b[0;32m    <a href='file:///c%3A/Users/melti/anaconda3/envs/Tensorflow-cpu/lib/site-packages/eta/core/utils.py?line=994'>995</a>\u001b[0m     \u001b[39melse\u001b[39;00m:\n\u001b[0;32m    <a href='file:///c%3A/Users/melti/anaconda3/envs/Tensorflow-cpu/lib/site-packages/eta/core/utils.py?line=995'>996</a>\u001b[0m         \u001b[39mraise\u001b[39;00m error\n",
      "File \u001b[1;32m<string>:3\u001b[0m, in \u001b[0;36mraise_from\u001b[1;34m(value, from_value)\u001b[0m\n",
      "\u001b[1;31mImportError\u001b[0m: The requested operation requires that 'pycocotools' is installed on your machine.\n\nIf you think this error is inaccurate, you can set `fiftyone.config.requirement_error_level` to 1 (warning) or 2 (ignore).\nSee https://voxel51.com/docs/fiftyone/user_guide/config.html for details."
     ]
    }
   ],
   "source": [
    "import fiftyone as fo\n",
    "import fiftyone.zoo as foz \n",
    "#C:\\Users\\melti\\fiftyone\\coco-2017\\raw\\instances_train2017.json\n",
    "dataset = foz.load_zoo_dataset(\"coco-2017\", \n",
    "                                label_types = ['detections','segmentations'],\n",
    "                                classes = ['person'],\n",
    "                                max_samples = 1000)"
   ]
  },
  {
   "cell_type": "code",
   "execution_count": null,
   "metadata": {},
   "outputs": [],
   "source": [
    "session = fo.launch_app(dataset)"
   ]
  },
  {
   "cell_type": "code",
   "execution_count": 23,
   "metadata": {},
   "outputs": [
    {
     "ename": "ImportError",
     "evalue": "cannot import name 'placeholder' from 'tensorflow' (C:\\Users\\melti\\anaconda3\\envs\\Tensorflow-cpu\\lib\\site-packages\\tensorflow\\__init__.py)",
     "output_type": "error",
     "traceback": [
      "\u001b[1;31m---------------------------------------------------------------------------\u001b[0m",
      "\u001b[1;31mImportError\u001b[0m                               Traceback (most recent call last)",
      "\u001b[1;32mc:\\Users\\melti\\Documents\\GitHub\\yolo_human_orientation_detection\\Common\\code_testing.ipynb Cell 2'\u001b[0m in \u001b[0;36m<cell line: 4>\u001b[1;34m()\u001b[0m\n\u001b[0;32m      <a href='vscode-notebook-cell:/c%3A/Users/melti/Documents/GitHub/yolo_human_orientation_detection/Common/code_testing.ipynb#ch0000002?line=1'>2</a>\u001b[0m \u001b[39mfrom\u001b[39;00m \u001b[39mtensorflow\u001b[39;00m\u001b[39m.\u001b[39;00m\u001b[39mkeras\u001b[39;00m\u001b[39m.\u001b[39;00m\u001b[39mlayers\u001b[39;00m \u001b[39mimport\u001b[39;00m BatchNormalization \u001b[39mas\u001b[39;00m BatchNorm \n\u001b[0;32m      <a href='vscode-notebook-cell:/c%3A/Users/melti/Documents/GitHub/yolo_human_orientation_detection/Common/code_testing.ipynb#ch0000002?line=2'>3</a>\u001b[0m \u001b[39mfrom\u001b[39;00m \u001b[39mtensorflow\u001b[39;00m\u001b[39m.\u001b[39;00m\u001b[39mkeras\u001b[39;00m\u001b[39m.\u001b[39;00m\u001b[39mlayers\u001b[39;00m \u001b[39mimport\u001b[39;00m Dense, Dropout, Input\n\u001b[1;32m----> <a href='vscode-notebook-cell:/c%3A/Users/melti/Documents/GitHub/yolo_human_orientation_detection/Common/code_testing.ipynb#ch0000002?line=3'>4</a>\u001b[0m \u001b[39mfrom\u001b[39;00m \u001b[39mtensorflow\u001b[39;00m \u001b[39mimport\u001b[39;00m placeholder\n\u001b[0;32m      <a href='vscode-notebook-cell:/c%3A/Users/melti/Documents/GitHub/yolo_human_orientation_detection/Common/code_testing.ipynb#ch0000002?line=4'>5</a>\u001b[0m \u001b[39mfrom\u001b[39;00m \u001b[39mtensorflow\u001b[39;00m\u001b[39m.\u001b[39;00m\u001b[39mkeras\u001b[39;00m\u001b[39m.\u001b[39;00m\u001b[39mmodels\u001b[39;00m \u001b[39mimport\u001b[39;00m Model\n",
      "\u001b[1;31mImportError\u001b[0m: cannot import name 'placeholder' from 'tensorflow' (C:\\Users\\melti\\anaconda3\\envs\\Tensorflow-cpu\\lib\\site-packages\\tensorflow\\__init__.py)"
     ]
    }
   ],
   "source": [
    "import tensorflow as tf\n",
    "from tensorflow.keras.layers import BatchNormalization as BatchNorm \n",
    "from tensorflow.keras.layers import Dense, Dropout, Input\n",
    "\n",
    "from tensorflow.keras.models import Model\n"
   ]
  },
  {
   "cell_type": "code",
   "execution_count": 29,
   "metadata": {},
   "outputs": [
    {
     "name": "stdout",
     "output_type": "stream",
     "text": [
      "5\n"
     ]
    }
   ],
   "source": [
    "_tiny_conv  =  [\n",
    "    [3, 32],\n",
    "    [3, 64],\n",
    "    [3, 64],\n",
    "\n",
    "    [3, 32],\n",
    "    [3, 32],\n",
    "    [1, 64],\n",
    "\n",
    "    [3, 128],\n",
    "    \n",
    "    [3, 64],\n",
    "    [3, 64],\n",
    "    [1, 128],\n",
    "\n",
    "    [3, 256],\n",
    "\n",
    "    [3, 128],\n",
    "    [3, 128],\n",
    "    [1, 256],\n",
    "\n",
    "    [3, 512]\n",
    "    ]\n",
    "\n",
    "_conv_wts =  [\n",
    "    [3, 32],\n",
    "    [3, 64],\n",
    "    [1, 64],\n",
    "    [1, 64],\n",
    "    [1, 64],\n",
    "    [1, 64],\n",
    "    [1, 64],\n",
    "    [1, 128],\n",
    "    [3, 256],\n",
    "    [1, 128],\n",
    "    [1, 128],\n",
    "    [1, 256],\n",
    "    [3, 512],\n",
    "    [1, 256],\n",
    "    [1, 256],\n",
    "    [1, 512],\n",
    "    [3, 1024],\n",
    "    [1, 512],\n",
    "    [1, 512],\n",
    "    [1, 1024],\n",
    "    [1, 512],\n",
    "    [3, 1024],\n",
    "    [1, 512],\n",
    "    [1, 512],\n",
    "    [3, 1024],\n",
    "    [1, 512]\n",
    "    ]"
   ]
  },
  {
   "cell_type": "code",
   "execution_count": 21,
   "metadata": {},
   "outputs": [
    {
     "ename": "TypeError",
     "evalue": "__init__() got multiple values for argument 'axis'",
     "output_type": "error",
     "traceback": [
      "\u001b[1;31m---------------------------------------------------------------------------\u001b[0m",
      "\u001b[1;31mTypeError\u001b[0m                                 Traceback (most recent call last)",
      "\u001b[1;32mc:\\Users\\melti\\Documents\\GitHub\\yolo_human_orientation_detection\\Common\\code_testing.ipynb Cell 3'\u001b[0m in \u001b[0;36m<cell line: 5>\u001b[1;34m()\u001b[0m\n\u001b[0;32m      <a href='vscode-notebook-cell:/c%3A/Users/melti/Documents/GitHub/yolo_human_orientation_detection/Common/code_testing.ipynb#ch0000003?line=0'>1</a>\u001b[0m inp \u001b[39m=\u001b[39m Input(shape \u001b[39m=\u001b[39m (\u001b[39m32\u001b[39m,))\n\u001b[0;32m      <a href='vscode-notebook-cell:/c%3A/Users/melti/Documents/GitHub/yolo_human_orientation_detection/Common/code_testing.ipynb#ch0000003?line=2'>3</a>\u001b[0m hidden1 \u001b[39m=\u001b[39m Dense(\u001b[39m32\u001b[39m, kernel_initializer\u001b[39m=\u001b[39mtf\u001b[39m.\u001b[39minitializers\u001b[39m.\u001b[39mhe_uniform(),activation\u001b[39m=\u001b[39mtf\u001b[39m.\u001b[39mnn\u001b[39m.\u001b[39mrelu, name\u001b[39m=\u001b[39m\u001b[39m\"\u001b[39m\u001b[39mhidden1\u001b[39m\u001b[39m\"\u001b[39m)\n\u001b[1;32m----> <a href='vscode-notebook-cell:/c%3A/Users/melti/Documents/GitHub/yolo_human_orientation_detection/Common/code_testing.ipynb#ch0000003?line=4'>5</a>\u001b[0m bn1 \u001b[39m=\u001b[39m BatchNorm(hidden1, axis \u001b[39m=\u001b[39;49m \u001b[39m-\u001b[39;49m\u001b[39m1\u001b[39;49m, name\u001b[39m=\u001b[39;49m\u001b[39m\"\u001b[39;49m\u001b[39mbn1\u001b[39;49m\u001b[39m\"\u001b[39;49m)\n\u001b[0;32m      <a href='vscode-notebook-cell:/c%3A/Users/melti/Documents/GitHub/yolo_human_orientation_detection/Common/code_testing.ipynb#ch0000003?line=6'>7</a>\u001b[0m hidden2 \u001b[39m=\u001b[39m  Dense(bn1, kernel_initializer\u001b[39m=\u001b[39mtf\u001b[39m.\u001b[39minitializers\u001b[39m.\u001b[39mhe_uniform(),activation\u001b[39m=\u001b[39mtf\u001b[39m.\u001b[39mnn\u001b[39m.\u001b[39mrelu, name\u001b[39m=\u001b[39m\u001b[39m\"\u001b[39m\u001b[39mhidden2\u001b[39m\u001b[39m\"\u001b[39m)\n\u001b[0;32m      <a href='vscode-notebook-cell:/c%3A/Users/melti/Documents/GitHub/yolo_human_orientation_detection/Common/code_testing.ipynb#ch0000003?line=8'>9</a>\u001b[0m bn2 \u001b[39m=\u001b[39m BatchNorm(hidden2,axis \u001b[39m=\u001b[39m \u001b[39m-\u001b[39m\u001b[39m1\u001b[39m, name\u001b[39m=\u001b[39m\u001b[39m\"\u001b[39m\u001b[39mbn2\u001b[39m\u001b[39m\"\u001b[39m)\n",
      "\u001b[1;31mTypeError\u001b[0m: __init__() got multiple values for argument 'axis'"
     ]
    }
   ],
   "source": [
    "inp = Input(shape = (32,))\n",
    "\n",
    "hidden1 = Dense(32, kernel_initializer=tf.initializers.he_uniform(),activation=tf.nn.relu, name=\"hidden1\")\n",
    "\n",
    "bn1 = BatchNorm() #(hidden1, axis = -1, name=\"bn1\")\n",
    "\n",
    "hidden2 =  Dense(bn1, kernel_initializer=tf.initializers.he_uniform(),activation=tf.nn.relu, name=\"hidden2\")\n",
    "\n",
    "bn2 = BatchNorm(hidden2,axis = -1, name=\"bn2\")\n",
    "\n",
    "hidden3 =  Dense(bn2, units=8 , kernel_initializer=tf.initializers.he_uniform(),activation=tf.nn.relu, name=\"hidden3\")\n",
    "\n",
    "bn3 = BatchNorm(hidden3,axis = -1, name=\"bn3\")\n",
    "\n",
    "out = Dense(bn3, units=1, kernel_initializer=tf.initializers.he_uniform(), activation=None, name=\"out\")"
   ]
  },
  {
   "cell_type": "code",
   "execution_count": null,
   "metadata": {},
   "outputs": [],
   "source": [
    "\n",
    "# Define the number of units per hidden layer\n",
    "layer_widths = [128, 64, 32]\n",
    "\n",
    "# Set up input layer\n",
    "input_layer = Input(...)  # change according to your input\n",
    "x = input_layer.output\n",
    "\n",
    "# Iteratively add the hidden layers\n",
    "for n_neurons in layer_widths:\n",
    "            x = Dense(n_neurons)(x)\n",
    "            x = ReLU()(x)\n",
    "            x = BatchNormalization()(x)\n",
    "            x = Dropout(0.5)(x)\n",
    "\n",
    "# Add the output layer\n",
    "output  = Dense(16, activation='softmax')(x)  # change according to your output\n"
   ]
  },
  {
   "cell_type": "code",
   "execution_count": 22,
   "metadata": {},
   "outputs": [
    {
     "ename": "AttributeError",
     "evalue": "module 'tensorflow' has no attribute 'placeholder'",
     "output_type": "error",
     "traceback": [
      "\u001b[1;31m---------------------------------------------------------------------------\u001b[0m",
      "\u001b[1;31mAttributeError\u001b[0m                            Traceback (most recent call last)",
      "\u001b[1;32mc:\\Users\\melti\\Documents\\GitHub\\yolo_human_orientation_detection\\Common\\code_testing.ipynb Cell 5'\u001b[0m in \u001b[0;36m<cell line: 1>\u001b[1;34m()\u001b[0m\n\u001b[1;32m----> <a href='vscode-notebook-cell:/c%3A/Users/melti/Documents/GitHub/yolo_human_orientation_detection/Common/code_testing.ipynb#ch0000005?line=0'>1</a>\u001b[0m inp \u001b[39m=\u001b[39m tf\u001b[39m.\u001b[39;49mplaceholder(\u001b[39m\"\u001b[39m\u001b[39mfloat\u001b[39m\u001b[39m\"\u001b[39m, [\u001b[39mNone\u001b[39;00m,\u001b[39m2\u001b[39m],name\u001b[39m=\u001b[39m\u001b[39m\"\u001b[39m\u001b[39minp\u001b[39m\u001b[39m\"\u001b[39m)\n\u001b[0;32m      <a href='vscode-notebook-cell:/c%3A/Users/melti/Documents/GitHub/yolo_human_orientation_detection/Common/code_testing.ipynb#ch0000005?line=2'>3</a>\u001b[0m units \u001b[39m=\u001b[39m [\u001b[39m32\u001b[39m, \u001b[39m16\u001b[39m, \u001b[39m8\u001b[39m]\n\u001b[0;32m      <a href='vscode-notebook-cell:/c%3A/Users/melti/Documents/GitHub/yolo_human_orientation_detection/Common/code_testing.ipynb#ch0000005?line=4'>5</a>\u001b[0m \u001b[39mfor\u001b[39;00m unit \u001b[39min\u001b[39;00m \u001b[39mrange\u001b[39m(\u001b[39mlen\u001b[39m(units)):\n",
      "\u001b[1;31mAttributeError\u001b[0m: module 'tensorflow' has no attribute 'placeholder'"
     ]
    }
   ],
   "source": [
    "inp = tf.placeholder(\"float\", [None,2], name=\"inp\")\n",
    "\n",
    "units = [32, 16, 8]\n",
    "\n",
    "for unit in range(len(units)):\n",
    "     inp =  tf.layers.dense(inp, units=units[unit], kernel_initializer=tf.initializers.he_uniform(),activation=tf.nn.relu,name=\"hidden\" + str(unit + 1))\n",
    "     inp = tf.layers.batch_normalization(inputs=inp, name=\"bn\"+str(unit + 1))\n",
    "\n",
    "\n",
    "out = tf.layers.dense(inp, units=1, kernel_initializer=tf.initializers.he_uniform(), activation=None, name=\"out\")  "
   ]
  },
  {
   "cell_type": "code",
   "execution_count": null,
   "metadata": {},
   "outputs": [],
   "source": [
    "res_layers_per_stage= [1,2,8,8,4]"
   ]
  },
  {
   "cell_type": "code",
   "execution_count": 26,
   "metadata": {},
   "outputs": [
    {
     "name": "stdout",
     "output_type": "stream",
     "text": [
      "True True\n"
     ]
    }
   ],
   "source": [
    "x = y = 2\n"
   ]
  },
  {
   "cell_type": "code",
   "execution_count": 28,
   "metadata": {},
   "outputs": [
    {
     "name": "stdout",
     "output_type": "stream",
     "text": [
      "4 2\n"
     ]
    }
   ],
   "source": []
  },
  {
   "cell_type": "code",
   "execution_count": null,
   "metadata": {},
   "outputs": [],
   "source": []
  }
 ],
 "metadata": {
  "interpreter": {
   "hash": "715478970a424439e36d526ad049ba8d91a92db1f31a89b0f549ef5bb827b149"
  },
  "kernelspec": {
   "display_name": "Python 3.8.12 ('Tensorflow-cpu')",
   "language": "python",
   "name": "python3"
  },
  "language_info": {
   "codemirror_mode": {
    "name": "ipython",
    "version": 3
   },
   "file_extension": ".py",
   "mimetype": "text/x-python",
   "name": "python",
   "nbconvert_exporter": "python",
   "pygments_lexer": "ipython3",
   "version": "3.8.12"
  },
  "orig_nbformat": 4
 },
 "nbformat": 4,
 "nbformat_minor": 2
}
